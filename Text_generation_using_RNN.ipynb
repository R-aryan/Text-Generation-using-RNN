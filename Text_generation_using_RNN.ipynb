{
  "nbformat": 4,
  "nbformat_minor": 0,
  "metadata": {
    "colab": {
      "name": "Text_generation using RNN.ipynb",
      "provenance": [],
      "collapsed_sections": [],
      "mount_file_id": "19_MpL3gu4t4zJGnPAIDFRYwh29Sj8m-N",
      "authorship_tag": "ABX9TyPDZdM9mJ2aJtAqa9UI7Jlu",
      "include_colab_link": true
    },
    "kernelspec": {
      "name": "python3",
      "display_name": "Python 3"
    },
    "accelerator": "GPU"
  },
  "cells": [
    {
      "cell_type": "markdown",
      "metadata": {
        "id": "view-in-github",
        "colab_type": "text"
      },
      "source": [
        "<a href=\"https://colab.research.google.com/github/R-aryan/Text-Generation-using-RNN/blob/master/Text_generation_using_RNN.ipynb\" target=\"_parent\"><img src=\"https://colab.research.google.com/assets/colab-badge.svg\" alt=\"Open In Colab\"/></a>"
      ]
    },
    {
      "cell_type": "markdown",
      "metadata": {
        "id": "9Pg0p9rmhNwR",
        "colab_type": "text"
      },
      "source": [
        "# Text Generation with Neural Networks"
      ]
    },
    {
      "cell_type": "code",
      "metadata": {
        "id": "RRcrZUrHhWzi",
        "colab_type": "code",
        "outputId": "ee4c04cb-6041-4e93-f3b1-72adf3df2cd8",
        "colab": {
          "base_uri": "https://localhost:8080/",
          "height": 35
        }
      },
      "source": [
        "# GOOGLE COLLAB USERS ONLY\n",
        "%tensorflow_version 2.x"
      ],
      "execution_count": 1,
      "outputs": [
        {
          "output_type": "stream",
          "text": [
            "TensorFlow 2.x selected.\n"
          ],
          "name": "stdout"
        }
      ]
    },
    {
      "cell_type": "markdown",
      "metadata": {
        "id": "NDhVb0x-h27U",
        "colab_type": "text"
      },
      "source": [
        "In this notebook we will create a network that can generate text, here we show it being done character by character. Very awesome write up on this here: http://karpathy.github.io/2015/05/21/rnn-effectiveness/\n",
        "\n",
        "We organized the process into \"steps\" so you can easily follow along with your own data sets."
      ]
    },
    {
      "cell_type": "code",
      "metadata": {
        "id": "eTHS3z5dhZqc",
        "colab_type": "code",
        "colab": {}
      },
      "source": [
        "import numpy as np\n",
        "import pandas as pd\n",
        "import tensorflow as tf\n",
        "import matplotlib.pyplot as plt"
      ],
      "execution_count": 0,
      "outputs": []
    },
    {
      "cell_type": "code",
      "metadata": {
        "id": "BVRRNCmyib5P",
        "colab_type": "code",
        "outputId": "6723ff7c-9343-4ea3-d356-bf379f43ffc7",
        "colab": {
          "base_uri": "https://localhost:8080/",
          "height": 35
        }
      },
      "source": [
        "tf.__version__"
      ],
      "execution_count": 3,
      "outputs": [
        {
          "output_type": "execute_result",
          "data": {
            "text/plain": [
              "'2.1.0'"
            ]
          },
          "metadata": {
            "tags": []
          },
          "execution_count": 3
        }
      ]
    },
    {
      "cell_type": "code",
      "metadata": {
        "id": "j6rqUTswiu5r",
        "colab_type": "code",
        "outputId": "be0dc47b-8333-4b0b-d715-e574e2272a6c",
        "colab": {
          "base_uri": "https://localhost:8080/",
          "height": 52
        }
      },
      "source": [
        "plt.figure(figsize=(12,8))"
      ],
      "execution_count": 4,
      "outputs": [
        {
          "output_type": "execute_result",
          "data": {
            "text/plain": [
              "<Figure size 864x576 with 0 Axes>"
            ]
          },
          "metadata": {
            "tags": []
          },
          "execution_count": 4
        },
        {
          "output_type": "display_data",
          "data": {
            "text/plain": [
              "<Figure size 864x576 with 0 Axes>"
            ]
          },
          "metadata": {
            "tags": []
          }
        }
      ]
    },
    {
      "cell_type": "markdown",
      "metadata": {
        "id": "B2SnpsoOi7F0",
        "colab_type": "text"
      },
      "source": [
        "## Step 1: The Data\n",
        "\n",
        "You can grab any free text you want from here: https://www.gutenberg.org/\n",
        "\n",
        "We'll choose all of shakespeare's works (which we have already downloaded for you), mainly for two reasons:\n",
        "\n",
        "1. Its a large corpus of text, its usually recommended you have at least a source of 1 million characters total to get realistic text generation.\n",
        "\n",
        "2. It has a very distinctive style. Since the text data uses old style english and is formatted in the style of a stage play, it will be very obvious to us if the model is able to reproduce similar results."
      ]
    },
    {
      "cell_type": "code",
      "metadata": {
        "id": "76VeJhmHi1mR",
        "colab_type": "code",
        "colab": {}
      },
      "source": [
        "train_path='/content/drive/My Drive/Custom_Modelling/shakespeare.txt'"
      ],
      "execution_count": 0,
      "outputs": []
    },
    {
      "cell_type": "code",
      "metadata": {
        "id": "Xyd_3vJLjA-v",
        "colab_type": "code",
        "outputId": "07398b53-3140-45f2-ef9e-3f0ae58fc49a",
        "colab": {
          "base_uri": "https://localhost:8080/",
          "height": 243
        }
      },
      "source": [
        "#reading the data from the text file\n",
        "text = open(train_path, 'r').read()\n",
        "print(text[:500])"
      ],
      "execution_count": 6,
      "outputs": [
        {
          "output_type": "stream",
          "text": [
            "\n",
            "                     1\n",
            "  From fairest creatures we desire increase,\n",
            "  That thereby beauty's rose might never die,\n",
            "  But as the riper should by time decease,\n",
            "  His tender heir might bear his memory:\n",
            "  But thou contracted to thine own bright eyes,\n",
            "  Feed'st thy light's flame with self-substantial fuel,\n",
            "  Making a famine where abundance lies,\n",
            "  Thy self thy foe, to thy sweet self too cruel:\n",
            "  Thou that art now the world's fresh ornament,\n",
            "  And only herald to the gaudy spring,\n",
            "  Within thine own bu\n"
          ],
          "name": "stdout"
        }
      ]
    },
    {
      "cell_type": "markdown",
      "metadata": {
        "id": "4OJCep79j8_F",
        "colab_type": "text"
      },
      "source": [
        "### Understanding unique characters"
      ]
    },
    {
      "cell_type": "code",
      "metadata": {
        "id": "TXFWWgmkjqyu",
        "colab_type": "code",
        "outputId": "528349a5-6440-4e70-a7e0-0aa10b493034",
        "colab": {
          "base_uri": "https://localhost:8080/",
          "height": 72
        }
      },
      "source": [
        "# The unique characters in the file\n",
        "vocab = sorted(set(text))\n",
        "print(vocab)\n",
        "len(vocab)"
      ],
      "execution_count": 7,
      "outputs": [
        {
          "output_type": "stream",
          "text": [
            "['\\n', ' ', '!', '\"', '&', \"'\", '(', ')', ',', '-', '.', '0', '1', '2', '3', '4', '5', '6', '7', '8', '9', ':', ';', '<', '>', '?', 'A', 'B', 'C', 'D', 'E', 'F', 'G', 'H', 'I', 'J', 'K', 'L', 'M', 'N', 'O', 'P', 'Q', 'R', 'S', 'T', 'U', 'V', 'W', 'X', 'Y', 'Z', '[', ']', '_', '`', 'a', 'b', 'c', 'd', 'e', 'f', 'g', 'h', 'i', 'j', 'k', 'l', 'm', 'n', 'o', 'p', 'q', 'r', 's', 't', 'u', 'v', 'w', 'x', 'y', 'z', '|', '}']\n"
          ],
          "name": "stdout"
        },
        {
          "output_type": "execute_result",
          "data": {
            "text/plain": [
              "84"
            ]
          },
          "metadata": {
            "tags": []
          },
          "execution_count": 7
        }
      ]
    },
    {
      "cell_type": "markdown",
      "metadata": {
        "id": "HLgZXhvWkDBa",
        "colab_type": "text"
      },
      "source": [
        "From the above output we can infer that the entire text corpus consists of 84 unique characters."
      ]
    },
    {
      "cell_type": "markdown",
      "metadata": {
        "id": "hcPj_E4gLvpL",
        "colab_type": "text"
      },
      "source": [
        "## Step 2: Text Processing\n",
        "\n",
        "### Text Vectorization\n",
        "\n",
        "We know a neural network can't take in the raw string data, we need to assign numbers to each character. Let's create two dictionaries that can go from numeric index to character and character to numeric index."
      ]
    },
    {
      "cell_type": "code",
      "metadata": {
        "id": "jroDkrLPkAoC",
        "colab_type": "code",
        "outputId": "4c6b009e-2398-4533-89e0-0192020e3409",
        "colab": {
          "base_uri": "https://localhost:8080/",
          "height": 55
        }
      },
      "source": [
        "char_to_ind = {u:i for i, u in enumerate(vocab)}\n",
        "print(char_to_ind)"
      ],
      "execution_count": 8,
      "outputs": [
        {
          "output_type": "stream",
          "text": [
            "{'\\n': 0, ' ': 1, '!': 2, '\"': 3, '&': 4, \"'\": 5, '(': 6, ')': 7, ',': 8, '-': 9, '.': 10, '0': 11, '1': 12, '2': 13, '3': 14, '4': 15, '5': 16, '6': 17, '7': 18, '8': 19, '9': 20, ':': 21, ';': 22, '<': 23, '>': 24, '?': 25, 'A': 26, 'B': 27, 'C': 28, 'D': 29, 'E': 30, 'F': 31, 'G': 32, 'H': 33, 'I': 34, 'J': 35, 'K': 36, 'L': 37, 'M': 38, 'N': 39, 'O': 40, 'P': 41, 'Q': 42, 'R': 43, 'S': 44, 'T': 45, 'U': 46, 'V': 47, 'W': 48, 'X': 49, 'Y': 50, 'Z': 51, '[': 52, ']': 53, '_': 54, '`': 55, 'a': 56, 'b': 57, 'c': 58, 'd': 59, 'e': 60, 'f': 61, 'g': 62, 'h': 63, 'i': 64, 'j': 65, 'k': 66, 'l': 67, 'm': 68, 'n': 69, 'o': 70, 'p': 71, 'q': 72, 'r': 73, 's': 74, 't': 75, 'u': 76, 'v': 77, 'w': 78, 'x': 79, 'y': 80, 'z': 81, '|': 82, '}': 83}\n"
          ],
          "name": "stdout"
        }
      ]
    },
    {
      "cell_type": "code",
      "metadata": {
        "id": "YWyqN_ZcL2jy",
        "colab_type": "code",
        "outputId": "5a863717-8ded-4f5f-d625-41473fdaac66",
        "colab": {
          "base_uri": "https://localhost:8080/",
          "height": 104
        }
      },
      "source": [
        "ind_to_char = np.array(vocab)\n",
        "print(ind_to_char)"
      ],
      "execution_count": 9,
      "outputs": [
        {
          "output_type": "stream",
          "text": [
            "['\\n' ' ' '!' '\"' '&' \"'\" '(' ')' ',' '-' '.' '0' '1' '2' '3' '4' '5' '6'\n",
            " '7' '8' '9' ':' ';' '<' '>' '?' 'A' 'B' 'C' 'D' 'E' 'F' 'G' 'H' 'I' 'J'\n",
            " 'K' 'L' 'M' 'N' 'O' 'P' 'Q' 'R' 'S' 'T' 'U' 'V' 'W' 'X' 'Y' 'Z' '[' ']'\n",
            " '_' '`' 'a' 'b' 'c' 'd' 'e' 'f' 'g' 'h' 'i' 'j' 'k' 'l' 'm' 'n' 'o' 'p'\n",
            " 'q' 'r' 's' 't' 'u' 'v' 'w' 'x' 'y' 'z' '|' '}']\n"
          ],
          "name": "stdout"
        }
      ]
    },
    {
      "cell_type": "code",
      "metadata": {
        "id": "rL2sfe9eL89v",
        "colab_type": "code",
        "outputId": "83657740-9bd6-4e50-bc41-2bc5f4940762",
        "colab": {
          "base_uri": "https://localhost:8080/",
          "height": 35
        }
      },
      "source": [
        "encoded_text = np.array([char_to_ind[c] for c in text])\n",
        "len(encoded_text)"
      ],
      "execution_count": 10,
      "outputs": [
        {
          "output_type": "execute_result",
          "data": {
            "text/plain": [
              "5445609"
            ]
          },
          "metadata": {
            "tags": []
          },
          "execution_count": 10
        }
      ]
    },
    {
      "cell_type": "markdown",
      "metadata": {
        "id": "UYDpx84QM5rt",
        "colab_type": "text"
      },
      "source": [
        "## We now have a mapping we can use to go back and forth from characters to numerics."
      ]
    },
    {
      "cell_type": "code",
      "metadata": {
        "id": "6gSM2wsJMnMq",
        "colab_type": "code",
        "outputId": "50643990-727a-407d-8156-c60b0ecb794b",
        "colab": {
          "base_uri": "https://localhost:8080/",
          "height": 87
        }
      },
      "source": [
        "sample = text[:100]\n",
        "print(sample)"
      ],
      "execution_count": 11,
      "outputs": [
        {
          "output_type": "stream",
          "text": [
            "\n",
            "                     1\n",
            "  From fairest creatures we desire increase,\n",
            "  That thereby beauty's rose mi\n"
          ],
          "name": "stdout"
        }
      ]
    },
    {
      "cell_type": "code",
      "metadata": {
        "id": "BlBlcNvCM_tg",
        "colab_type": "code",
        "outputId": "712fe315-efa8-47d4-f4a6-e1d229ae406e",
        "colab": {
          "base_uri": "https://localhost:8080/",
          "height": 121
        }
      },
      "source": [
        "#printing the corresponding encoded text of the sample\n",
        "encoded_text[:100]"
      ],
      "execution_count": 12,
      "outputs": [
        {
          "output_type": "execute_result",
          "data": {
            "text/plain": [
              "array([ 0,  1,  1,  1,  1,  1,  1,  1,  1,  1,  1,  1,  1,  1,  1,  1,  1,\n",
              "        1,  1,  1,  1,  1, 12,  0,  1,  1, 31, 73, 70, 68,  1, 61, 56, 64,\n",
              "       73, 60, 74, 75,  1, 58, 73, 60, 56, 75, 76, 73, 60, 74,  1, 78, 60,\n",
              "        1, 59, 60, 74, 64, 73, 60,  1, 64, 69, 58, 73, 60, 56, 74, 60,  8,\n",
              "        0,  1,  1, 45, 63, 56, 75,  1, 75, 63, 60, 73, 60, 57, 80,  1, 57,\n",
              "       60, 56, 76, 75, 80,  5, 74,  1, 73, 70, 74, 60,  1, 68, 64])"
            ]
          },
          "metadata": {
            "tags": []
          },
          "execution_count": 12
        }
      ]
    },
    {
      "cell_type": "markdown",
      "metadata": {
        "id": "9Aui2Y7GN125",
        "colab_type": "text"
      },
      "source": [
        "## Step 3: Creating Batches\n",
        "\n",
        "Overall what we are trying to achieve is to have the model predict the next highest probability character given a historical sequence of characters. Its up to us (the user) to choose how long that historic sequence. Too short a sequence and we don't have enough information (e.g. given the letter \"a\" , what is the next character) , too long a sequence and training will take too long and most likely overfit to sequence characters that are irrelevant to characters farther out. While there is no correct sequence length choice, you should consider the text itself, how long normal phrases are in it, and a reasonable idea of what characters/words are relevant to each other."
      ]
    },
    {
      "cell_type": "code",
      "metadata": {
        "id": "LE_KEKkuNUM1",
        "colab_type": "code",
        "outputId": "6865b63b-41a9-4562-9e5f-d102ce125600",
        "colab": {
          "base_uri": "https://localhost:8080/",
          "height": 243
        }
      },
      "source": [
        "print(text[:500])"
      ],
      "execution_count": 13,
      "outputs": [
        {
          "output_type": "stream",
          "text": [
            "\n",
            "                     1\n",
            "  From fairest creatures we desire increase,\n",
            "  That thereby beauty's rose might never die,\n",
            "  But as the riper should by time decease,\n",
            "  His tender heir might bear his memory:\n",
            "  But thou contracted to thine own bright eyes,\n",
            "  Feed'st thy light's flame with self-substantial fuel,\n",
            "  Making a famine where abundance lies,\n",
            "  Thy self thy foe, to thy sweet self too cruel:\n",
            "  Thou that art now the world's fresh ornament,\n",
            "  And only herald to the gaudy spring,\n",
            "  Within thine own bu\n"
          ],
          "name": "stdout"
        }
      ]
    },
    {
      "cell_type": "code",
      "metadata": {
        "id": "sId8lKDjN6Ch",
        "colab_type": "code",
        "outputId": "117951ed-506b-4b2b-c682-cfd14de56df5",
        "colab": {
          "base_uri": "https://localhost:8080/",
          "height": 35
        }
      },
      "source": [
        "line = \"From fairest creatures we desire increase\"\n",
        "print(len(line))"
      ],
      "execution_count": 14,
      "outputs": [
        {
          "output_type": "stream",
          "text": [
            "41\n"
          ],
          "name": "stdout"
        }
      ]
    },
    {
      "cell_type": "code",
      "metadata": {
        "id": "ZguReuKNN_Ne",
        "colab_type": "code",
        "outputId": "3e20a08b-c2da-4fc6-bbd9-35af5363e955",
        "colab": {
          "base_uri": "https://localhost:8080/",
          "height": 35
        }
      },
      "source": [
        "part_stanza = \"\"\"From fairest creatures we desire increase,\n",
        "  That thereby beauty's rose might never die,\n",
        "  But as the riper should by time decease,\"\"\"\n",
        "\n",
        "print(len(part_stanza))"
      ],
      "execution_count": 15,
      "outputs": [
        {
          "output_type": "stream",
          "text": [
            "131\n"
          ],
          "name": "stdout"
        }
      ]
    },
    {
      "cell_type": "markdown",
      "metadata": {
        "id": "AzQTh1sB1cKD",
        "colab_type": "text"
      },
      "source": [
        "### Training Sequences\n",
        "\n",
        "The actual text data will be the text sequence shifted one character forward. For example:\n",
        "\n",
        "Sequence In: \"Hello my nam\"\n",
        "Sequence Out: \"ello my name\"\n",
        "\n",
        "\n",
        "We can use the `tf.data.Dataset.from_tensor_slices` function to convert a text vector into a stream of character indices."
      ]
    },
    {
      "cell_type": "code",
      "metadata": {
        "id": "8OlZ97c11Y5O",
        "colab_type": "code",
        "colab": {}
      },
      "source": [
        "seq_len = 120"
      ],
      "execution_count": 0,
      "outputs": []
    },
    {
      "cell_type": "code",
      "metadata": {
        "id": "9BNeUeLW1pbe",
        "colab_type": "code",
        "outputId": "2e119299-2324-40e8-e479-94ac0ebfd8b6",
        "colab": {
          "base_uri": "https://localhost:8080/",
          "height": 35
        }
      },
      "source": [
        "total_num_seq = len(text)//(seq_len+1)\n",
        "total_num_seq"
      ],
      "execution_count": 17,
      "outputs": [
        {
          "output_type": "execute_result",
          "data": {
            "text/plain": [
              "45005"
            ]
          },
          "metadata": {
            "tags": []
          },
          "execution_count": 17
        }
      ]
    },
    {
      "cell_type": "code",
      "metadata": {
        "id": "EYjLxt7g1tnZ",
        "colab_type": "code",
        "outputId": "702aa102-4290-4888-88dc-abdec5c913ff",
        "colab": {
          "base_uri": "https://localhost:8080/",
          "height": 572
        }
      },
      "source": [
        "# Create Training Sequences\n",
        "char_dataset = tf.data.Dataset.from_tensor_slices(encoded_text)\n",
        "\n",
        "for i in char_dataset.take(30):\n",
        "     print(ind_to_char[i.numpy()])"
      ],
      "execution_count": 18,
      "outputs": [
        {
          "output_type": "stream",
          "text": [
            "\n",
            "\n",
            " \n",
            " \n",
            " \n",
            " \n",
            " \n",
            " \n",
            " \n",
            " \n",
            " \n",
            " \n",
            " \n",
            " \n",
            " \n",
            " \n",
            " \n",
            " \n",
            " \n",
            " \n",
            " \n",
            " \n",
            " \n",
            "1\n",
            "\n",
            "\n",
            " \n",
            " \n",
            "F\n",
            "r\n",
            "o\n",
            "m\n"
          ],
          "name": "stdout"
        }
      ]
    },
    {
      "cell_type": "markdown",
      "metadata": {
        "id": "5ccdAqaqL7Vg",
        "colab_type": "text"
      },
      "source": [
        "The **batch** method converts these individual character calls into sequences we can feed in as a batch. We use seq_len+1 because of zero indexing. Here is what drop_remainder means:\n",
        "\n",
        "drop_remainder: (Optional.) A `tf.bool` scalar `tf.Tensor`, representing\n",
        "    whether the last batch should be dropped in the case it has fewer than\n",
        "    `batch_size` elements; the default behavior is not to drop the smaller\n",
        "    batch.\n"
      ]
    },
    {
      "cell_type": "code",
      "metadata": {
        "id": "HPrwaXkYLeIh",
        "colab_type": "code",
        "outputId": "4e7f71a8-062f-42b9-de61-e7b8dbcf7692",
        "colab": {
          "base_uri": "https://localhost:8080/",
          "height": 35
        }
      },
      "source": [
        "sequences = char_dataset.batch(seq_len+1, drop_remainder=True)\n",
        "sequences"
      ],
      "execution_count": 19,
      "outputs": [
        {
          "output_type": "execute_result",
          "data": {
            "text/plain": [
              "<BatchDataset shapes: (121,), types: tf.int64>"
            ]
          },
          "metadata": {
            "tags": []
          },
          "execution_count": 19
        }
      ]
    },
    {
      "cell_type": "markdown",
      "metadata": {
        "id": "lW6Lq-zjMSJu",
        "colab_type": "text"
      },
      "source": [
        "Now that we have our sequences, we will perform the following steps for each one to create our target text sequences:\n",
        "\n",
        "1. Grab the input text sequence\n",
        "2. Assign the target text sequence as the input text sequence shifted by one step forward\n",
        "3. Group them together as a tuple"
      ]
    },
    {
      "cell_type": "code",
      "metadata": {
        "id": "zhHoAL1_ML4Z",
        "colab_type": "code",
        "colab": {}
      },
      "source": [
        "def create_seq_targets(seq):\n",
        "    input_txt = seq[:-1]\n",
        "    target_txt = seq[1:]\n",
        "    return input_txt, target_txt"
      ],
      "execution_count": 0,
      "outputs": []
    },
    {
      "cell_type": "code",
      "metadata": {
        "id": "5LtfgIj0MjAf",
        "colab_type": "code",
        "outputId": "dff46a56-d5ff-43ef-dd5e-e729cc4f1b59",
        "colab": {
          "base_uri": "https://localhost:8080/",
          "height": 35
        }
      },
      "source": [
        "dataset = sequences.map(create_seq_targets)\n",
        "dataset"
      ],
      "execution_count": 21,
      "outputs": [
        {
          "output_type": "execute_result",
          "data": {
            "text/plain": [
              "<MapDataset shapes: ((120,), (120,)), types: (tf.int64, tf.int64)>"
            ]
          },
          "metadata": {
            "tags": []
          },
          "execution_count": 21
        }
      ]
    },
    {
      "cell_type": "code",
      "metadata": {
        "id": "F5y4CnmxMmBx",
        "colab_type": "code",
        "outputId": "d1941969-6c0a-42cc-9b47-1fb949356f3f",
        "colab": {
          "base_uri": "https://localhost:8080/",
          "height": 381
        }
      },
      "source": [
        "for input_txt, target_txt in  dataset.take(1):\n",
        "    print(input_txt.numpy())\n",
        "    print(''.join(ind_to_char[input_txt.numpy()]))\n",
        "    print('\\n')\n",
        "    print(target_txt.numpy())\n",
        "    # There is an extra whitespace!\n",
        "    print(''.join(ind_to_char[target_txt.numpy()]))"
      ],
      "execution_count": 22,
      "outputs": [
        {
          "output_type": "stream",
          "text": [
            "[ 0  1  1  1  1  1  1  1  1  1  1  1  1  1  1  1  1  1  1  1  1  1 12  0\n",
            "  1  1 31 73 70 68  1 61 56 64 73 60 74 75  1 58 73 60 56 75 76 73 60 74\n",
            "  1 78 60  1 59 60 74 64 73 60  1 64 69 58 73 60 56 74 60  8  0  1  1 45\n",
            " 63 56 75  1 75 63 60 73 60 57 80  1 57 60 56 76 75 80  5 74  1 73 70 74\n",
            " 60  1 68 64 62 63 75  1 69 60 77 60 73  1 59 64 60  8  0  1  1 27 76 75]\n",
            "\n",
            "                     1\n",
            "  From fairest creatures we desire increase,\n",
            "  That thereby beauty's rose might never die,\n",
            "  But\n",
            "\n",
            "\n",
            "[ 1  1  1  1  1  1  1  1  1  1  1  1  1  1  1  1  1  1  1  1  1 12  0  1\n",
            "  1 31 73 70 68  1 61 56 64 73 60 74 75  1 58 73 60 56 75 76 73 60 74  1\n",
            " 78 60  1 59 60 74 64 73 60  1 64 69 58 73 60 56 74 60  8  0  1  1 45 63\n",
            " 56 75  1 75 63 60 73 60 57 80  1 57 60 56 76 75 80  5 74  1 73 70 74 60\n",
            "  1 68 64 62 63 75  1 69 60 77 60 73  1 59 64 60  8  0  1  1 27 76 75  1]\n",
            "                     1\n",
            "  From fairest creatures we desire increase,\n",
            "  That thereby beauty's rose might never die,\n",
            "  But \n"
          ],
          "name": "stdout"
        }
      ]
    },
    {
      "cell_type": "markdown",
      "metadata": {
        "id": "fwfdS9yHxiRu",
        "colab_type": "text"
      },
      "source": [
        "### Generating training batches\n",
        "\n",
        "Now that we have the actual sequences, we will create the batches, we want to shuffle these sequences into a random order, so the model doesn't overfit to any section of the text, but can instead generate characters given any seed text."
      ]
    },
    {
      "cell_type": "code",
      "metadata": {
        "id": "LEQ0L5iUxVgk",
        "colab_type": "code",
        "colab": {}
      },
      "source": [
        "# Batch size\n",
        "batch_size = 128\n",
        "\n",
        "# Buffer size to shuffle the dataset so it doesn't attempt to shuffle\n",
        "# the entire sequence in memory. Instead, it maintains a buffer in which it shuffles elements\n",
        "buffer_size = 10000\n",
        "\n",
        "dataset = dataset.shuffle(buffer_size).batch(batch_size, drop_remainder=True)"
      ],
      "execution_count": 0,
      "outputs": []
    },
    {
      "cell_type": "code",
      "metadata": {
        "id": "AquQW5lmx6AH",
        "colab_type": "code",
        "outputId": "30a98085-a0b6-4a97-df79-c0a8834762f9",
        "colab": {
          "base_uri": "https://localhost:8080/",
          "height": 35
        }
      },
      "source": [
        "dataset"
      ],
      "execution_count": 24,
      "outputs": [
        {
          "output_type": "execute_result",
          "data": {
            "text/plain": [
              "<BatchDataset shapes: ((128, 120), (128, 120)), types: (tf.int64, tf.int64)>"
            ]
          },
          "metadata": {
            "tags": []
          },
          "execution_count": 24
        }
      ]
    },
    {
      "cell_type": "markdown",
      "metadata": {
        "id": "ZRxICPWnyRoK",
        "colab_type": "text"
      },
      "source": [
        "## Step 4: Creating the Model\n",
        "\n",
        "We will use an LSTM based model with a few extra features, including an embedding layer to start off with and **two** LSTM layers. We based this model architecture off the [DeepMoji](https://deepmoji.mit.edu/) and the original source code can be found [here](https://github.com/bfelbo/DeepMoji).\n",
        "\n",
        "The embedding layer will serve as the input layer, which essentially creates a lookup table that maps the numbers indices of each character to a vector with \"embedding dim\" number of dimensions. As you can imagine, the larger this embedding size, the more complex the training. This is similar to the idea behind word2vec, where words are mapped to some n-dimensional space. Embedding before feeding straight into the LSTM usually leads to more realisitic results."
      ]
    },
    {
      "cell_type": "code",
      "metadata": {
        "id": "6hw0OD3Zx7oB",
        "colab_type": "code",
        "colab": {}
      },
      "source": [
        "# Length of the vocabulary in chars\n",
        "vocab_size = len(vocab)\n",
        "\n",
        "# The embedding dimension\n",
        "embed_dim = 64\n",
        "\n",
        "# Number of RNN units\n",
        "rnn_neurons = 1026"
      ],
      "execution_count": 0,
      "outputs": []
    },
    {
      "cell_type": "markdown",
      "metadata": {
        "id": "q_iwy5yREZE8",
        "colab_type": "text"
      },
      "source": [
        "Now let's create a function that easily adapts to different variables as shown above."
      ]
    },
    {
      "cell_type": "code",
      "metadata": {
        "id": "7xbkv8yvERMG",
        "colab_type": "code",
        "colab": {}
      },
      "source": [
        "from tensorflow.keras.models import Sequential\n",
        "from tensorflow.keras.layers import LSTM,Dense,Embedding,Dropout,GRU\n",
        "from tensorflow.keras.losses import sparse_categorical_crossentropy"
      ],
      "execution_count": 0,
      "outputs": []
    },
    {
      "cell_type": "markdown",
      "metadata": {
        "id": "3RXtnal-EheI",
        "colab_type": "text"
      },
      "source": [
        "### Setting up Loss Function\n",
        "\n",
        "For our loss we will use sparse categorical crossentropy, which we can import from Keras. We will also set this as logits=True"
      ]
    },
    {
      "cell_type": "code",
      "metadata": {
        "id": "A_sC3DvaEeXf",
        "colab_type": "code",
        "colab": {
          "base_uri": "https://localhost:8080/",
          "height": 87
        },
        "outputId": "b5f6cecd-c58a-458b-d6a2-ce8731c2e80f"
      },
      "source": [
        "help(sparse_categorical_crossentropy)"
      ],
      "execution_count": 27,
      "outputs": [
        {
          "output_type": "stream",
          "text": [
            "Help on function sparse_categorical_crossentropy in module tensorflow.python.keras.losses:\n",
            "\n",
            "sparse_categorical_crossentropy(y_true, y_pred, from_logits=False, axis=-1)\n",
            "\n"
          ],
          "name": "stdout"
        }
      ]
    },
    {
      "cell_type": "markdown",
      "metadata": {
        "id": "By40IJtGE047",
        "colab_type": "text"
      },
      "source": [
        "Which is better for accuracy or are they the same? Of course, if you use categorical_crossentropy you use one hot encoding, and if you use sparse_categorical_crossentropy you encode as normal integers. Additionally, when is one better than the other?\n",
        "\n",
        "https://datascience.stackexchange.com/questions/41921/sparse-categorical-crossentropy-vs-categorical-crossentropy-keras-accuracy"
      ]
    },
    {
      "cell_type": "code",
      "metadata": {
        "id": "aHag-glKEkG_",
        "colab_type": "code",
        "colab": {}
      },
      "source": [
        "def sparse_cat_loss(y_true,y_pred):\n",
        "  return sparse_categorical_crossentropy(y_true, y_pred, from_logits=True)"
      ],
      "execution_count": 0,
      "outputs": []
    },
    {
      "cell_type": "code",
      "metadata": {
        "id": "h08xE7PwFGNy",
        "colab_type": "code",
        "colab": {}
      },
      "source": [
        "def create_model(vocab_size, embed_dim, rnn_neurons, batch_size):\n",
        "    model = Sequential()\n",
        "\n",
        "    model.add(Embedding(vocab_size, embed_dim,batch_input_shape=[batch_size, None]))\n",
        "\n",
        "    model.add(GRU(rnn_neurons,return_sequences=True,stateful=True,recurrent_initializer='glorot_uniform'))\n",
        "\n",
        "    # Final Dense Layer to Predict\n",
        "    model.add(Dense(vocab_size))\n",
        "\n",
        "    model.compile(optimizer='adam', loss=sparse_cat_loss) \n",
        "    \n",
        "    return model"
      ],
      "execution_count": 0,
      "outputs": []
    },
    {
      "cell_type": "code",
      "metadata": {
        "id": "qZ-5HcuoNxlN",
        "colab_type": "code",
        "colab": {}
      },
      "source": [
        "model = create_model(\n",
        "  vocab_size = vocab_size,\n",
        "  embed_dim=embed_dim,\n",
        "  rnn_neurons=rnn_neurons,\n",
        "  batch_size=batch_size)"
      ],
      "execution_count": 0,
      "outputs": []
    },
    {
      "cell_type": "code",
      "metadata": {
        "id": "tsWOMDdpN9ow",
        "colab_type": "code",
        "colab": {
          "base_uri": "https://localhost:8080/",
          "height": 260
        },
        "outputId": "7bcf1a7f-ee29-4adb-839e-7aeb86c3421a"
      },
      "source": [
        "model.summary()"
      ],
      "execution_count": 31,
      "outputs": [
        {
          "output_type": "stream",
          "text": [
            "Model: \"sequential\"\n",
            "_________________________________________________________________\n",
            "Layer (type)                 Output Shape              Param #   \n",
            "=================================================================\n",
            "embedding (Embedding)        (128, None, 64)           5376      \n",
            "_________________________________________________________________\n",
            "gru (GRU)                    (128, None, 1026)         3361176   \n",
            "_________________________________________________________________\n",
            "dense (Dense)                (128, None, 84)           86268     \n",
            "=================================================================\n",
            "Total params: 3,452,820\n",
            "Trainable params: 3,452,820\n",
            "Non-trainable params: 0\n",
            "_________________________________________________________________\n"
          ],
          "name": "stdout"
        }
      ]
    },
    {
      "cell_type": "markdown",
      "metadata": {
        "id": "u8vrhMgSOKxv",
        "colab_type": "text"
      },
      "source": [
        "## Step 5: Training the model\n",
        "\n",
        "Let's make sure everything is ok with our model before we spend too much time training! Let's pass in a batch to confirm the model currently predicts random characters without any training.\n",
        "\n"
      ]
    },
    {
      "cell_type": "code",
      "metadata": {
        "id": "WgFB4m6WOAn0",
        "colab_type": "code",
        "colab": {
          "base_uri": "https://localhost:8080/",
          "height": 35
        },
        "outputId": "e604a150-49f2-4e81-d163-391d59542142"
      },
      "source": [
        "for input_example_batch, target_example_batch in dataset.take(1):\n",
        "\n",
        "  # Predict off some random batch\n",
        "  example_batch_predictions = model(input_example_batch)\n",
        "\n",
        "  # Display the dimensions of the predictions\n",
        "  print(example_batch_predictions.shape, \" <=== (batch_size, sequence_length, vocab_size)\")\n"
      ],
      "execution_count": 32,
      "outputs": [
        {
          "output_type": "stream",
          "text": [
            "(128, 120, 84)  <=== (batch_size, sequence_length, vocab_size)\n"
          ],
          "name": "stdout"
        }
      ]
    },
    {
      "cell_type": "code",
      "metadata": {
        "id": "1t9CcFhmmMeL",
        "colab_type": "code",
        "colab": {
          "base_uri": "https://localhost:8080/",
          "height": 1000
        },
        "outputId": "498535b9-473e-4e4f-cf7e-a5e2c79a0bf6"
      },
      "source": [
        "example_batch_predictions"
      ],
      "execution_count": 33,
      "outputs": [
        {
          "output_type": "execute_result",
          "data": {
            "text/plain": [
              "<tf.Tensor: shape=(128, 120, 84), dtype=float32, numpy=\n",
              "array([[[-3.2002130e-04, -7.1705282e-03, -2.4767045e-03, ...,\n",
              "          1.8868089e-04, -4.7398070e-03,  2.4511345e-04],\n",
              "        [ 4.3969555e-04, -7.1102483e-03,  2.4140603e-04, ...,\n",
              "         -1.3168859e-03,  3.1657014e-03,  6.5145232e-03],\n",
              "        [-6.9807598e-04,  2.7503411e-03,  3.2602521e-03, ...,\n",
              "          1.7276234e-03,  9.3627367e-03,  3.2210939e-03],\n",
              "        ...,\n",
              "        [ 3.8598286e-04, -2.4779574e-03,  5.7812501e-03, ...,\n",
              "         -1.3944267e-03, -2.1288865e-03, -3.8362276e-03],\n",
              "        [-7.5632706e-04,  4.0524057e-05,  5.2492972e-04, ...,\n",
              "         -3.0178225e-03,  1.9111681e-03, -8.7548571e-04],\n",
              "        [-5.2537303e-05, -6.8668914e-03,  1.2938050e-04, ...,\n",
              "         -6.6268141e-04, -4.4343285e-03, -6.5168896e-04]],\n",
              "\n",
              "       [[-3.2002130e-04, -7.1705282e-03, -2.4767045e-03, ...,\n",
              "          1.8868089e-04, -4.7398070e-03,  2.4511345e-04],\n",
              "        [-1.6457601e-03, -5.8216753e-04,  2.7586939e-03, ...,\n",
              "          1.6530589e-03, -7.5514601e-03,  4.4158823e-03],\n",
              "        [ 2.1720051e-03, -4.4129626e-03,  3.3742345e-03, ...,\n",
              "         -5.6352345e-03, -4.1208854e-03,  4.3270807e-03],\n",
              "        ...,\n",
              "        [ 5.1211473e-04, -1.3372790e-02,  1.7112615e-03, ...,\n",
              "          6.8533956e-04, -7.7250442e-03,  3.9476808e-04],\n",
              "        [ 1.5560770e-05, -1.3163652e-02,  2.6000612e-03, ...,\n",
              "          1.0063340e-03, -8.3029866e-03,  2.1829638e-03],\n",
              "        [-6.7824284e-03, -7.8821611e-03,  9.9940877e-03, ...,\n",
              "          4.4421939e-04, -6.2585059e-03, -1.0226474e-03]],\n",
              "\n",
              "       [[-1.1520522e-03,  5.1916600e-03, -8.8326947e-04, ...,\n",
              "          9.2106145e-03, -2.8448924e-04, -1.6694167e-03],\n",
              "        [-1.2054645e-03, -4.6687927e-03, -4.0674023e-03, ...,\n",
              "          5.0045792e-03, -5.6901928e-03,  1.1248385e-03],\n",
              "        [ 5.2636690e-03, -3.5014986e-03,  5.5644722e-03, ...,\n",
              "          3.3273387e-03,  1.7648393e-03,  4.6598813e-03],\n",
              "        ...,\n",
              "        [-3.0682287e-03,  5.1801689e-03, -1.7627245e-03, ...,\n",
              "          6.8280492e-03,  4.4044764e-03, -5.8788075e-03],\n",
              "        [-2.6110157e-03, -4.4741575e-03, -3.8024678e-03, ...,\n",
              "          4.2410651e-03, -2.7598911e-03, -1.0710966e-03],\n",
              "        [-2.6198053e-03, -2.1085660e-03,  6.7986315e-03, ...,\n",
              "          2.0068423e-03, -4.3466119e-03,  3.8384271e-03]],\n",
              "\n",
              "       ...,\n",
              "\n",
              "       [[ 1.1498312e-03, -6.9158594e-04,  1.0136291e-03, ...,\n",
              "          1.8258095e-03,  1.0771628e-03, -1.2066183e-03],\n",
              "        [-1.0906814e-03, -3.8120057e-03, -1.5613704e-04, ...,\n",
              "          1.3161104e-03,  3.4484810e-03, -7.5589838e-03],\n",
              "        [ 2.1126756e-04, -9.6794320e-03, -3.9148121e-03, ...,\n",
              "          2.1480056e-03, -2.6636787e-03, -3.9709047e-03],\n",
              "        ...,\n",
              "        [ 9.6528523e-04, -8.1789261e-03,  6.8772640e-03, ...,\n",
              "          1.0407834e-03,  2.6691132e-03, -9.3339989e-03],\n",
              "        [ 1.5827103e-03, -1.2325858e-02,  2.0577407e-03, ...,\n",
              "          6.7845802e-04, -2.8593452e-03, -5.6051966e-03],\n",
              "        [ 1.3678225e-03, -1.3482421e-02,  1.3194242e-03, ...,\n",
              "          6.1835139e-04, -5.7869582e-03, -2.2382485e-03]],\n",
              "\n",
              "       [[-8.5640070e-04, -6.4979942e-04,  6.6840397e-03, ...,\n",
              "         -6.2579662e-04, -2.6230882e-03,  2.7235802e-03],\n",
              "        [-6.7573471e-04, -1.3453059e-04,  4.0152194e-03, ...,\n",
              "         -1.4348709e-03,  4.6786009e-03, -3.7285774e-03],\n",
              "        [-3.8889481e-04, -6.5060114e-03,  7.6425052e-04, ...,\n",
              "         -1.5239068e-04, -2.3733885e-03, -3.0819960e-03],\n",
              "        ...,\n",
              "        [-1.5796267e-03,  1.7019103e-03,  6.5469800e-04, ...,\n",
              "          9.2019523e-03, -1.4934443e-03, -8.6670881e-04],\n",
              "        [-1.9382504e-03,  2.1965168e-03, -3.4903723e-03, ...,\n",
              "          2.4210066e-03,  2.4847945e-03,  1.0770310e-03],\n",
              "        [-6.9994428e-03, -1.7898394e-03, -2.5512469e-03, ...,\n",
              "          2.9795249e-03,  4.2195180e-03, -1.0687299e-03]],\n",
              "\n",
              "       [[ 6.9719512e-04, -4.0707062e-03, -5.3698116e-04, ...,\n",
              "         -1.6057056e-03,  5.5587422e-03,  5.5815293e-03],\n",
              "        [ 5.2293669e-03,  8.4567070e-03, -1.6323456e-03, ...,\n",
              "         -8.9183589e-04,  5.3625451e-03, -4.7863154e-03],\n",
              "        [ 1.2137464e-03,  9.2464676e-03, -2.3843271e-03, ...,\n",
              "          8.9288866e-03,  1.7718310e-03, -4.0552909e-03],\n",
              "        ...,\n",
              "        [ 1.5967251e-03,  4.5049647e-03, -7.9634157e-04, ...,\n",
              "          3.1968765e-04,  1.8778299e-03, -1.5896240e-03],\n",
              "        [ 3.2282248e-04,  6.4534200e-03, -1.2289928e-03, ...,\n",
              "          8.4048118e-03,  4.5108749e-04, -2.2546812e-03],\n",
              "        [ 1.0621032e-03,  8.8848919e-04, -5.9007145e-03, ...,\n",
              "          5.3634006e-03, -1.2183287e-03,  7.3356628e-03]]], dtype=float32)>"
            ]
          },
          "metadata": {
            "tags": []
          },
          "execution_count": 33
        }
      ]
    },
    {
      "cell_type": "code",
      "metadata": {
        "id": "W6aPH6sImgOJ",
        "colab_type": "code",
        "colab": {
          "base_uri": "https://localhost:8080/",
          "height": 1000
        },
        "outputId": "dd08769e-924a-4df5-8c61-145a2cfc364d"
      },
      "source": [
        "sampled_indices = tf.random.categorical(example_batch_predictions[0], num_samples=1)\n",
        "sampled_indices"
      ],
      "execution_count": 34,
      "outputs": [
        {
          "output_type": "execute_result",
          "data": {
            "text/plain": [
              "<tf.Tensor: shape=(120, 1), dtype=int64, numpy=\n",
              "array([[ 5],\n",
              "       [11],\n",
              "       [53],\n",
              "       [26],\n",
              "       [39],\n",
              "       [68],\n",
              "       [38],\n",
              "       [63],\n",
              "       [12],\n",
              "       [ 4],\n",
              "       [80],\n",
              "       [64],\n",
              "       [33],\n",
              "       [44],\n",
              "       [80],\n",
              "       [60],\n",
              "       [35],\n",
              "       [59],\n",
              "       [13],\n",
              "       [31],\n",
              "       [55],\n",
              "       [ 0],\n",
              "       [12],\n",
              "       [ 3],\n",
              "       [26],\n",
              "       [36],\n",
              "       [ 1],\n",
              "       [54],\n",
              "       [44],\n",
              "       [80],\n",
              "       [23],\n",
              "       [15],\n",
              "       [23],\n",
              "       [ 4],\n",
              "       [58],\n",
              "       [48],\n",
              "       [48],\n",
              "       [ 5],\n",
              "       [51],\n",
              "       [47],\n",
              "       [59],\n",
              "       [22],\n",
              "       [20],\n",
              "       [12],\n",
              "       [17],\n",
              "       [31],\n",
              "       [73],\n",
              "       [25],\n",
              "       [48],\n",
              "       [64],\n",
              "       [ 5],\n",
              "       [21],\n",
              "       [69],\n",
              "       [82],\n",
              "       [30],\n",
              "       [39],\n",
              "       [53],\n",
              "       [41],\n",
              "       [61],\n",
              "       [31],\n",
              "       [40],\n",
              "       [39],\n",
              "       [13],\n",
              "       [15],\n",
              "       [57],\n",
              "       [19],\n",
              "       [33],\n",
              "       [ 1],\n",
              "       [42],\n",
              "       [25],\n",
              "       [65],\n",
              "       [14],\n",
              "       [47],\n",
              "       [24],\n",
              "       [48],\n",
              "       [78],\n",
              "       [53],\n",
              "       [50],\n",
              "       [ 1],\n",
              "       [66],\n",
              "       [69],\n",
              "       [19],\n",
              "       [ 7],\n",
              "       [34],\n",
              "       [58],\n",
              "       [80],\n",
              "       [40],\n",
              "       [17],\n",
              "       [ 6],\n",
              "       [13],\n",
              "       [ 7],\n",
              "       [49],\n",
              "       [65],\n",
              "       [ 7],\n",
              "       [50],\n",
              "       [ 8],\n",
              "       [15],\n",
              "       [74],\n",
              "       [62],\n",
              "       [78],\n",
              "       [42],\n",
              "       [78],\n",
              "       [76],\n",
              "       [38],\n",
              "       [46],\n",
              "       [ 1],\n",
              "       [48],\n",
              "       [79],\n",
              "       [66],\n",
              "       [34],\n",
              "       [20],\n",
              "       [49],\n",
              "       [51],\n",
              "       [61],\n",
              "       [27],\n",
              "       [78],\n",
              "       [59],\n",
              "       [14],\n",
              "       [32],\n",
              "       [41]])>"
            ]
          },
          "metadata": {
            "tags": []
          },
          "execution_count": 34
        }
      ]
    },
    {
      "cell_type": "code",
      "metadata": {
        "id": "OeYmfSg7mny9",
        "colab_type": "code",
        "colab": {
          "base_uri": "https://localhost:8080/",
          "height": 156
        },
        "outputId": "64e02051-3239-4f45-f15f-af9020ef087e"
      },
      "source": [
        "# Reformat to not be a lists of lists\n",
        "sampled_indices = tf.squeeze(sampled_indices,axis=-1).numpy()\n",
        "sampled_indices"
      ],
      "execution_count": 35,
      "outputs": [
        {
          "output_type": "execute_result",
          "data": {
            "text/plain": [
              "array([ 5, 11, 53, 26, 39, 68, 38, 63, 12,  4, 80, 64, 33, 44, 80, 60, 35,\n",
              "       59, 13, 31, 55,  0, 12,  3, 26, 36,  1, 54, 44, 80, 23, 15, 23,  4,\n",
              "       58, 48, 48,  5, 51, 47, 59, 22, 20, 12, 17, 31, 73, 25, 48, 64,  5,\n",
              "       21, 69, 82, 30, 39, 53, 41, 61, 31, 40, 39, 13, 15, 57, 19, 33,  1,\n",
              "       42, 25, 65, 14, 47, 24, 48, 78, 53, 50,  1, 66, 69, 19,  7, 34, 58,\n",
              "       80, 40, 17,  6, 13,  7, 49, 65,  7, 50,  8, 15, 74, 62, 78, 42, 78,\n",
              "       76, 38, 46,  1, 48, 79, 66, 34, 20, 49, 51, 61, 27, 78, 59, 14, 32,\n",
              "       41])"
            ]
          },
          "metadata": {
            "tags": []
          },
          "execution_count": 35
        }
      ]
    },
    {
      "cell_type": "code",
      "metadata": {
        "id": "JLXFxwXdmzyx",
        "colab_type": "code",
        "colab": {
          "base_uri": "https://localhost:8080/",
          "height": 208
        },
        "outputId": "edcdb0b2-1c1b-41a5-bf7e-39dea2b820d6"
      },
      "source": [
        "print(\"Given the input seq: \\n\")\n",
        "print(\"\".join(ind_to_char[input_example_batch[0]]))\n",
        "print('\\n')\n",
        "print(\"Next Char Predictions: \\n\")\n",
        "print(\"\".join(ind_to_char[sampled_indices ]))\n"
      ],
      "execution_count": 36,
      "outputs": [
        {
          "output_type": "stream",
          "text": [
            "Given the input seq: \n",
            "\n",
            " altitude of his virtue.\n",
            "  SECOND CITIZEN. What he cannot help in his nature you account a\n",
            "    vice in him. You must in \n",
            "\n",
            "\n",
            "Next Char Predictions: \n",
            "\n",
            "'0]ANmMh1&yiHSyeJd2F`\n",
            "1\"AK _Sy<4<&cWW'ZVd;916Fr?Wi':n|EN]PfFON24b8H Q?j3V>Ww]Y kn8)IcyO6(2)Xj)Y,4sgwQwuMU WxkI9XZfBwd3GP\n"
          ],
          "name": "stdout"
        }
      ]
    },
    {
      "cell_type": "code",
      "metadata": {
        "id": "w_LC-lQFm-4x",
        "colab_type": "code",
        "colab": {
          "base_uri": "https://localhost:8080/",
          "height": 1000
        },
        "outputId": "f5a3e4f3-4091-44be-dbc0-9c7d6f5aab4d"
      },
      "source": [
        "#After confirming the dimensions are working, let's train our network!\n",
        "epochs = 30\n",
        "model.fit(dataset,epochs=epochs)\n",
        "model.save('/content/drive/My Drive/classification_Dataset/shakespeare_gen.h5') "
      ],
      "execution_count": 37,
      "outputs": [
        {
          "output_type": "stream",
          "text": [
            "Train for 351 steps\n",
            "Epoch 1/30\n",
            "351/351 [==============================] - 49s 140ms/step - loss: 2.5102\n",
            "Epoch 2/30\n",
            "351/351 [==============================] - 50s 142ms/step - loss: 1.7201\n",
            "Epoch 3/30\n",
            "351/351 [==============================] - 51s 144ms/step - loss: 1.4545\n",
            "Epoch 4/30\n",
            "351/351 [==============================] - 51s 146ms/step - loss: 1.3380\n",
            "Epoch 5/30\n",
            "351/351 [==============================] - 51s 147ms/step - loss: 1.2757\n",
            "Epoch 6/30\n",
            "351/351 [==============================] - 52s 147ms/step - loss: 1.2360\n",
            "Epoch 7/30\n",
            "351/351 [==============================] - 52s 148ms/step - loss: 1.2071\n",
            "Epoch 8/30\n",
            "351/351 [==============================] - 51s 147ms/step - loss: 1.1836\n",
            "Epoch 9/30\n",
            "351/351 [==============================] - 51s 146ms/step - loss: 1.1636\n",
            "Epoch 10/30\n",
            "351/351 [==============================] - 51s 146ms/step - loss: 1.1465\n",
            "Epoch 11/30\n",
            "351/351 [==============================] - 52s 147ms/step - loss: 1.1308\n",
            "Epoch 12/30\n",
            "351/351 [==============================] - 51s 147ms/step - loss: 1.1166\n",
            "Epoch 13/30\n",
            "351/351 [==============================] - 52s 147ms/step - loss: 1.1036\n",
            "Epoch 14/30\n",
            "351/351 [==============================] - 52s 147ms/step - loss: 1.0909\n",
            "Epoch 15/30\n",
            "351/351 [==============================] - 52s 147ms/step - loss: 1.0794\n",
            "Epoch 16/30\n",
            "351/351 [==============================] - 52s 147ms/step - loss: 1.0681\n",
            "Epoch 17/30\n",
            "351/351 [==============================] - 52s 147ms/step - loss: 1.0572\n",
            "Epoch 18/30\n",
            "351/351 [==============================] - 52s 147ms/step - loss: 1.0472\n",
            "Epoch 19/30\n",
            "351/351 [==============================] - 52s 147ms/step - loss: 1.0374\n",
            "Epoch 20/30\n",
            "351/351 [==============================] - 52s 147ms/step - loss: 1.0285\n",
            "Epoch 21/30\n",
            "351/351 [==============================] - 52s 148ms/step - loss: 1.0199\n",
            "Epoch 22/30\n",
            "351/351 [==============================] - 52s 147ms/step - loss: 1.0120\n",
            "Epoch 23/30\n",
            "351/351 [==============================] - 52s 148ms/step - loss: 1.0056\n",
            "Epoch 24/30\n",
            "351/351 [==============================] - 52s 148ms/step - loss: 0.9989\n",
            "Epoch 25/30\n",
            "351/351 [==============================] - 52s 148ms/step - loss: 0.9934\n",
            "Epoch 26/30\n",
            "351/351 [==============================] - 52s 147ms/step - loss: 0.9881\n",
            "Epoch 27/30\n",
            "351/351 [==============================] - 52s 147ms/step - loss: 0.9828\n",
            "Epoch 28/30\n",
            "351/351 [==============================] - 52s 147ms/step - loss: 0.9789\n",
            "Epoch 29/30\n",
            "351/351 [==============================] - 52s 148ms/step - loss: 0.9755\n",
            "Epoch 30/30\n",
            "351/351 [==============================] - 52s 147ms/step - loss: 0.9715\n"
          ],
          "name": "stdout"
        }
      ]
    },
    {
      "cell_type": "code",
      "metadata": {
        "id": "cETPoGj6nRrj",
        "colab_type": "code",
        "colab": {}
      },
      "source": [
        ""
      ],
      "execution_count": 0,
      "outputs": []
    }
  ]
}